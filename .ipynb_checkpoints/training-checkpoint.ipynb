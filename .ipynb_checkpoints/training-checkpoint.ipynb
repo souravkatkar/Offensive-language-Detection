{
 "cells": [
  {
   "cell_type": "code",
   "execution_count": 2,
   "metadata": {},
   "outputs": [],
   "source": [
    "import pandas as pd"
   ]
  },
  {
   "cell_type": "code",
   "execution_count": 3,
   "metadata": {},
   "outputs": [],
   "source": [
    "#creating dataframe of training data\n",
    "df_train = pd.read_csv('train.csv') "
   ]
  },
  {
   "cell_type": "code",
   "execution_count": 8,
   "metadata": {},
   "outputs": [
    {
     "data": {
      "text/plain": [
       "Index(['id', 'comment_text', 'toxic', 'severe_toxic', 'obscene', 'threat',\n",
       "       'insult', 'identity_hate'],\n",
       "      dtype='object')"
      ]
     },
     "execution_count": 8,
     "metadata": {},
     "output_type": "execute_result"
    }
   ],
   "source": [
    "#total columns in dataframe \n",
    "#'comment_text' is input for training\n",
    "#'toxic', 'severe_toxic', 'obscene', 'threat','insult', 'identity_hate' is target for training\n",
    "#id is redundant as it has no use in training so we can drop id column\n",
    "df_train.columns"
   ]
  },
  {
   "cell_type": "code",
   "execution_count": 9,
   "metadata": {},
   "outputs": [
    {
     "data": {
      "text/plain": [
       "(159571, 8)"
      ]
     },
     "execution_count": 9,
     "metadata": {},
     "output_type": "execute_result"
    }
   ],
   "source": [
    "#dataframe has 159571 records(rows) and 8 columns(1*input + 6*target +1*id) \n",
    "df_train.shape"
   ]
  },
  {
   "cell_type": "code",
   "execution_count": null,
   "metadata": {},
   "outputs": [],
   "source": [
    "#removes redundant symbols in the string col(str).\n",
    "def pString(col):\n",
    "    for i in ['-','\\n','\"',\"_\",\"  \",\"   \",\"=\",\"/\"]:\n",
    "    col = col.replace(i,\" \")\n",
    "    return col"
   ]
  },
  {
   "cell_type": "code",
   "execution_count": null,
   "metadata": {},
   "outputs": [],
   "source": [
    "#drops the id column\n",
    "#call pString function over 'comment_text' column using apply and create new column 'input'.\n",
    "#Now,as 'comment_text' is useless, we can drop it\n",
    "\n",
    "def preprocessDataframe(dFrame):\n",
    "    tempFrame = dFrame.drop(['id'],axis ='columns')\n",
    "    tempFrame['input']=tempFrame['comment_text'].apply(pString)\n",
    "    tempFrame = tempFrame.drop(['comment_text'],axis = 'columns')\n",
    "    return tempFrame\n",
    "    "
   ]
  },
  {
   "cell_type": "code",
   "execution_count": null,
   "metadata": {},
   "outputs": [],
   "source": [
    "#pass entire dataframe to above functions \n",
    "df_train = preprocessDataframe(df_train)"
   ]
  },
  {
   "cell_type": "code",
   "execution_count": null,
   "metadata": {},
   "outputs": [],
   "source": [
    "#split data for training(80%) and testing(20%)  \n",
    "from sklearn.model_selection import train_test_split\n",
    "x_train,x_test,y_train,y_test = train_test_split(df_train['input'],df_train.drop(['input'],axis='columns'),test_size=0.2)"
   ]
  },
  {
   "cell_type": "code",
   "execution_count": null,
   "metadata": {},
   "outputs": [],
   "source": [
    "#As machine learning works on numeric data, 'input'(string) must be mapped to integer tokens.\n",
    "from sklearn.feature_extraction.text import CountVectorizer\n",
    "v = CountVectorizer()"
   ]
  },
  {
   "cell_type": "code",
   "execution_count": null,
   "metadata": {},
   "outputs": [],
   "source": [
    "#we will use RandomForestClassifier as our training algorithm\n",
    "from sklearn.ensemble import RandomForestClassifier\n",
    "model = RandomForestClassifier(n_estimators=40)"
   ]
  },
  {
   "cell_type": "code",
   "execution_count": null,
   "metadata": {},
   "outputs": [],
   "source": [
    "#traing our model\n",
    "#first parameter: transformed 'input' column using CountVectorizer object(fit is used to create vocabulary for CountVectorizer )\n",
    "#second parameter: y_train(as it has numeric data, we wil NOT use CountVectorizer  )\n",
    "model.fit(v.fit_transform(x_train),y_train)"
   ]
  },
  {
   "cell_type": "code",
   "execution_count": null,
   "metadata": {},
   "outputs": [],
   "source": [
    "#Since, vocabulary is already associate with 'v'(object of CountVectorizer) ,we will use transfrom() instead of fit_transform() \n",
    "model.score(v.transform(x_test),y_test)"
   ]
  },
  {
   "cell_type": "code",
   "execution_count": null,
   "metadata": {},
   "outputs": [],
   "source": [
    "#saving trained model as file in same directory (fileName:'CommentModel')\n",
    "import joblib\n",
    "joblib.dump(model,'CommentModel')\n",
    "\n",
    "\n",
    "#saving v as it contains vocabulary to predict the new strings\n",
    "joblib.dump(v,'vectorizer')\n",
    "\n",
    "'''Note: Since we are not going to train our model eveytime, we need to save the vocabulary created during training.\n",
    "when we load our model in new jupyter notebook, we have to load the saved vocabulary also for prediction.\n",
    "\n",
    "if we dont load the saved vocabulary and predict using new object of CountVectorizer, it will throw an error as\n",
    "'Vocabulary not fitted or provided'\n"
   ]
  }
 ],
 "metadata": {
  "kernelspec": {
   "display_name": "Python 3",
   "language": "python",
   "name": "python3"
  },
  "language_info": {
   "codemirror_mode": {
    "name": "ipython",
    "version": 3
   },
   "file_extension": ".py",
   "mimetype": "text/x-python",
   "name": "python",
   "nbconvert_exporter": "python",
   "pygments_lexer": "ipython3",
   "version": "3.7.4"
  }
 },
 "nbformat": 4,
 "nbformat_minor": 4
}
